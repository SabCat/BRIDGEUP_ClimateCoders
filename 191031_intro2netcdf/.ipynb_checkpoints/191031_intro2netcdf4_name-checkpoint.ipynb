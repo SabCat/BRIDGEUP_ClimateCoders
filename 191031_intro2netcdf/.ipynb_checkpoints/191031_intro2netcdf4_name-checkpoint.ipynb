{
 "cells": [
  {
   "cell_type": "markdown",
   "metadata": {},
   "source": [
    "# Introduction to netCDF4\n",
    "\n",
    "netCDF (or Network Common Data Form) files are way of storing multidimensional data so it can be shared by scientists on different computers, different operating systems, and using different programming languages. In this module, we'll take a look at why it is so widely used by oceanographers and climate scientists today. "
   ]
  },
  {
   "cell_type": "markdown",
   "metadata": {},
   "source": [
    "Let's first install the netCDF4 module that reads .netcdf files in Python.\n",
    "\n",
    "1. Open Terminal\n",
    "1. Check if the netcdf4 module is available for installation using ```conda search netcdf4```. This should give you a list of versions of the module.\n",
    "1. Type in ```conda install netcdf4``` to install the latest version.\n",
    "1. Check if the module has been installed using ```conda list```."
   ]
  },
  {
   "cell_type": "markdown",
   "metadata": {},
   "source": [
    "We will be working with satellite measurements of [sea-surface temperature from NASA](https://neo.sci.gsfc.nasa.gov/view.php?datasetId=MYD28M).  This a quick video on how the Aqua satellite collects this data https://www.youtube.com/watch?v=unlfchZaRo0.\n",
    "\n",
    "![AQUA satellite](https://sealevel.nasa.gov/system/missions/images/2_aqua_deploy.1.jpg)\n",
    "\n",
    "\n",
    "\n",
    "Let's import this dataset for the month of August, 2019 using the function Dataset(**file_name**) from the netCDF4 package. You might need to change the path of your file. This is tells Python where the file is the stored on your computer. "
   ]
  },
  {
   "cell_type": "code",
   "execution_count": 16,
   "metadata": {},
   "outputs": [],
   "source": [
    "# Tells python which directory the files are stored in"
   ]
  },
  {
   "cell_type": "code",
   "execution_count": 15,
   "metadata": {},
   "outputs": [
    {
     "data": {
      "text/plain": [
       "'/Users/brownscholar/Dropbox/BridgeUP_ClimateCoders'"
      ]
     },
     "execution_count": 15,
     "metadata": {},
     "output_type": "execute_result"
    }
   ],
   "source": [
    "import os\n",
    "os.chdir(\"/Users/brownscholar/Dropbox/BRIDGEUP_ClimateCoders\")\n",
    "os.getcwd() # Checks which directory python is changed to"
   ]
  },
  {
   "cell_type": "code",
   "execution_count": 14,
   "metadata": {},
   "outputs": [],
   "source": [
    "from netCDF4 import Dataset #import Dataset from the netCDF4 package\n",
    "data = Dataset(\"/Users/brownscholar/Dropbox/BridgeUP_ClimateCoders/Data/A20192132019243.L3m_MO_SST_sst_4km.nc\") \n",
    "# SST = sea surface temperature"
   ]
  },
  {
   "cell_type": "markdown",
   "metadata": {},
   "source": [
    "Let's just call the data variable and see what we get."
   ]
  },
  {
   "cell_type": "code",
   "execution_count": 8,
   "metadata": {},
   "outputs": [
    {
     "data": {
      "text/plain": [
       "<class 'netCDF4._netCDF4.Dataset'>\n",
       "root group (NETCDF4 data model, file format HDF5):\n",
       "    product_name: A20192132019243.L3m_MO_SST_sst_4km.nc\n",
       "    instrument: MODIS\n",
       "    title: MODISA Level-3 Standard Mapped Image\n",
       "    project: Ocean Biology Processing Group (NASA/GSFC/OBPG)\n",
       "    platform: Aqua\n",
       "    temporal_range: month\n",
       "    processing_version: 2014.0.1\n",
       "    date_created: 2019-09-18T20:24:53.000Z\n",
       "    history: l3mapgen par=A20192132019243.L3m_MO_SST_sst_4km.nc.param \n",
       "    l2_flag_names: LAND,HISOLZEN\n",
       "    time_coverage_start: 2019-08-01T00:35:01.000Z\n",
       "    time_coverage_end: 2019-09-01T02:59:59.000Z\n",
       "    start_orbit_number: 91712\n",
       "    end_orbit_number: 92164\n",
       "    map_projection: Equidistant Cylindrical\n",
       "    latitude_units: degrees_north\n",
       "    longitude_units: degrees_east\n",
       "    northernmost_latitude: 90.0\n",
       "    southernmost_latitude: -90.0\n",
       "    westernmost_longitude: -180.0\n",
       "    easternmost_longitude: 180.0\n",
       "    geospatial_lat_max: 90.0\n",
       "    geospatial_lat_min: -90.0\n",
       "    geospatial_lon_max: 180.0\n",
       "    geospatial_lon_min: -180.0\n",
       "    latitude_step: 0.041666668\n",
       "    longitude_step: 0.041666668\n",
       "    sw_point_latitude: -89.979164\n",
       "    sw_point_longitude: -179.97917\n",
       "    geospatial_lon_resolution: 4.6383123\n",
       "    geospatial_lat_resolution: 4.6383123\n",
       "    geospatial_lat_units: degrees_north\n",
       "    geospatial_lon_units: degrees_east\n",
       "    spatialResolution: 4.64 km\n",
       "    number_of_lines: 4320\n",
       "    number_of_columns: 8640\n",
       "    measure: Mean\n",
       "    suggested_image_scaling_minimum: -2.0\n",
       "    suggested_image_scaling_maximum: 45.0\n",
       "    suggested_image_scaling_type: LINEAR\n",
       "    suggested_image_scaling_applied: No\n",
       "    _lastModified: 2019-09-18T20:24:53.000Z\n",
       "    Conventions: CF-1.6 ACDD-1.3\n",
       "    institution: NASA Goddard Space Flight Center, Ocean Ecology Laboratory, Ocean Biology Processing Group\n",
       "    standard_name_vocabulary: CF Standard Name Table v36\n",
       "    naming_authority: gov.nasa.gsfc.sci.oceandata\n",
       "    id: A20192132019243.L3b_MO_SST.nc/L3/A20192132019243.L3b_MO_SST.nc\n",
       "    license: http://science.nasa.gov/earth-science/earth-science-data/data-information-policy/\n",
       "    creator_name: NASA/GSFC/OBPG\n",
       "    publisher_name: NASA/GSFC/OBPG\n",
       "    creator_email: data@oceancolor.gsfc.nasa.gov\n",
       "    publisher_email: data@oceancolor.gsfc.nasa.gov\n",
       "    creator_url: http://oceandata.sci.gsfc.nasa.gov\n",
       "    publisher_url: http://oceandata.sci.gsfc.nasa.gov\n",
       "    processing_level: L3 Mapped\n",
       "    cdm_data_type: grid\n",
       "    keywords: Earth Science > Oceans > Ocean Optics > Sea Surface Temperature\n",
       "    keywords_vocabulary: NASA Global Change Master Directory (GCMD) Science Keywords\n",
       "    data_bins: 17424707\n",
       "    data_minimum: -1.9749999\n",
       "    data_maximum: 39.989998\n",
       "    dimensions(sizes): lat(4320), lon(8640), rgb(3), eightbitcolor(256)\n",
       "    variables(dimensions): int16 \u001b[4msst\u001b[0m(lat,lon), uint8 \u001b[4mqual_sst\u001b[0m(lat,lon), float32 \u001b[4mlat\u001b[0m(lat), float32 \u001b[4mlon\u001b[0m(lon), uint8 \u001b[4mpalette\u001b[0m(rgb,eightbitcolor)\n",
       "    groups: processing_control"
      ]
     },
     "execution_count": 8,
     "metadata": {},
     "output_type": "execute_result"
    }
   ],
   "source": [
    "data"
   ]
  },
  {
   "cell_type": "markdown",
   "metadata": {},
   "source": [
    "You probably notice that the **data** variable is ordered in this way:\n",
    "* attributes of the data: who collected the data, when was it acquired, what methods they used etc.\n",
    "* dimensions: size of the dataset\n",
    "* variables: the data itself i.e sea surface temperature, latitude, longitude etc.\n",
    "\n",
    "We will look at each of these in turn."
   ]
  },
  {
   "cell_type": "markdown",
   "metadata": {},
   "source": [
    "## Attributes\n",
    "To look at a particular attribute, type in **dataset.attribute_name** like so:"
   ]
  },
  {
   "cell_type": "code",
   "execution_count": 17,
   "metadata": {},
   "outputs": [
    {
     "data": {
      "text/plain": [
       "'2019-09-18T20:24:53.000Z'"
      ]
     },
     "execution_count": 17,
     "metadata": {},
     "output_type": "execute_result"
    }
   ],
   "source": [
    "data.date_created"
   ]
  },
  {
   "cell_type": "markdown",
   "metadata": {},
   "source": [
    "To look at just the names of the attributes, you would use the function ncattrs()."
   ]
  },
  {
   "cell_type": "code",
   "execution_count": 18,
   "metadata": {},
   "outputs": [
    {
     "data": {
      "text/plain": [
       "['product_name',\n",
       " 'instrument',\n",
       " 'title',\n",
       " 'project',\n",
       " 'platform',\n",
       " 'temporal_range',\n",
       " 'processing_version',\n",
       " 'date_created',\n",
       " 'history',\n",
       " 'l2_flag_names',\n",
       " 'time_coverage_start',\n",
       " 'time_coverage_end',\n",
       " 'start_orbit_number',\n",
       " 'end_orbit_number',\n",
       " 'map_projection',\n",
       " 'latitude_units',\n",
       " 'longitude_units',\n",
       " 'northernmost_latitude',\n",
       " 'southernmost_latitude',\n",
       " 'westernmost_longitude',\n",
       " 'easternmost_longitude',\n",
       " 'geospatial_lat_max',\n",
       " 'geospatial_lat_min',\n",
       " 'geospatial_lon_max',\n",
       " 'geospatial_lon_min',\n",
       " 'latitude_step',\n",
       " 'longitude_step',\n",
       " 'sw_point_latitude',\n",
       " 'sw_point_longitude',\n",
       " 'geospatial_lon_resolution',\n",
       " 'geospatial_lat_resolution',\n",
       " 'geospatial_lat_units',\n",
       " 'geospatial_lon_units',\n",
       " 'spatialResolution',\n",
       " 'number_of_lines',\n",
       " 'number_of_columns',\n",
       " 'measure',\n",
       " 'suggested_image_scaling_minimum',\n",
       " 'suggested_image_scaling_maximum',\n",
       " 'suggested_image_scaling_type',\n",
       " 'suggested_image_scaling_applied',\n",
       " '_lastModified',\n",
       " 'Conventions',\n",
       " 'institution',\n",
       " 'standard_name_vocabulary',\n",
       " 'naming_authority',\n",
       " 'id',\n",
       " 'license',\n",
       " 'creator_name',\n",
       " 'publisher_name',\n",
       " 'creator_email',\n",
       " 'publisher_email',\n",
       " 'creator_url',\n",
       " 'publisher_url',\n",
       " 'processing_level',\n",
       " 'cdm_data_type',\n",
       " 'keywords',\n",
       " 'keywords_vocabulary',\n",
       " 'data_bins',\n",
       " 'data_minimum',\n",
       " 'data_maximum']"
      ]
     },
     "execution_count": 18,
     "metadata": {},
     "output_type": "execute_result"
    }
   ],
   "source": [
    "data.ncattrs()"
   ]
  },
  {
   "cell_type": "markdown",
   "metadata": {},
   "source": [
    "What is the start and end time of the dataset i.e the time_coverage?"
   ]
  },
  {
   "cell_type": "code",
   "execution_count": null,
   "metadata": {},
   "outputs": [],
   "source": [
    "print(data.time_coverage_start)\n",
    "print(data.time_coverage_end)"
   ]
  },
  {
   "cell_type": "markdown",
   "metadata": {},
   "source": [
    "## Dimensions\n",
    "\n",
    "The dimensions tell you the size of the dataset. You can access the dimensions of the dataset by calling **dataset.dimensions**. Notice that the output is a dictionary. \n",
    "\n",
    "There are also some dimensions that do not have any physical meaning namely 'rgb' and 'eightbitcolor'. These will become useful when mapping the data and will ignore them for now. "
   ]
  },
  {
   "cell_type": "code",
   "execution_count": 19,
   "metadata": {},
   "outputs": [
    {
     "data": {
      "text/plain": [
       "OrderedDict([('lat',\n",
       "              <class 'netCDF4._netCDF4.Dimension'>: name = 'lat', size = 4320),\n",
       "             ('lon',\n",
       "              <class 'netCDF4._netCDF4.Dimension'>: name = 'lon', size = 8640),\n",
       "             ('rgb',\n",
       "              <class 'netCDF4._netCDF4.Dimension'>: name = 'rgb', size = 3),\n",
       "             ('eightbitcolor',\n",
       "              <class 'netCDF4._netCDF4.Dimension'>: name = 'eightbitcolor', size = 256)])"
      ]
     },
     "execution_count": 19,
     "metadata": {},
     "output_type": "execute_result"
    }
   ],
   "source": [
    "data.dimensions"
   ]
  },
  {
   "cell_type": "markdown",
   "metadata": {},
   "source": [
    "We can see the \"keys,\" or dimension names, with **dataset.dimensions.keys()**"
   ]
  },
  {
   "cell_type": "code",
   "execution_count": 20,
   "metadata": {},
   "outputs": [
    {
     "data": {
      "text/plain": [
       "odict_keys(['lat', 'lon', 'rgb', 'eightbitcolor'])"
      ]
     },
     "execution_count": 20,
     "metadata": {},
     "output_type": "execute_result"
    }
   ],
   "source": [
    "data.dimensions.keys()"
   ]
  },
  {
   "cell_type": "markdown",
   "metadata": {},
   "source": [
    "What are the dimensions of this dataset? Does it make sense?"
   ]
  },
  {
   "cell_type": "markdown",
   "metadata": {},
   "source": []
  },
  {
   "cell_type": "markdown",
   "metadata": {},
   "source": [
    "If you want to see a specific dimension, you can do so by adding brackets and the dimension name in quotes. i.e. **dataset.dimensions['lat']**."
   ]
  },
  {
   "cell_type": "code",
   "execution_count": 21,
   "metadata": {},
   "outputs": [
    {
     "data": {
      "text/plain": [
       "<class 'netCDF4._netCDF4.Dimension'>: name = 'lat', size = 4320"
      ]
     },
     "execution_count": 21,
     "metadata": {},
     "output_type": "execute_result"
    }
   ],
   "source": [
    "data.dimensions['lat']"
   ]
  },
  {
   "cell_type": "markdown",
   "metadata": {},
   "source": [
    "Like you did earlier, to pull out a particular attribute of this dimensions (in this case size) you would type in **dataset.dimensions['lat'].size**. Create a tuple which gives you the size of the latitude and longitude dimensions."
   ]
  },
  {
   "cell_type": "code",
   "execution_count": 26,
   "metadata": {},
   "outputs": [
    {
     "name": "stdout",
     "output_type": "stream",
     "text": [
      "(4320, 8640)\n"
     ]
    }
   ],
   "source": [
    "latitudeSize = data.dimensions['lat'].size #insert value here\n",
    "longitudeSize = data.dimensions['lon'].size #insert value here\n",
    "gridSize = (latitudeSize,longitudeSize)\n",
    "print(gridSize)"
   ]
  },
  {
   "cell_type": "markdown",
   "metadata": {},
   "source": [
    "## Variables\n",
    "\n",
    "Our global sea surface temperature data is saved as a two-dimensional array. \n",
    "\n",
    "Take a break a play the Battleship Game: https://www.battleshiponline.org. You are given a grid (i.e a two dimensional array) and you have identify where your enemy ships are by selecting a x and y coordinate on the grid.\n",
    "\n",
    "Similarly for our data, the x-axis is latitude ('lat') and the y-axis is longitude ('lon'). The sea surface temperature is like the location of the ships. It provides additional information for each location point selected.\n",
    "\n",
    "![lat and long grid](https://www.ncl.ucar.edu/Applications/Images/mapgrid_1_lg.png)"
   ]
  },
  {
   "cell_type": "markdown",
   "metadata": {},
   "source": [
    "Now, we are ready to look at the variables we're playing with using **dataset.variables**. First output the names of these variables. \n",
    "\n",
    "Hint: refer back to our steps for looking at the dimensions of the dataset. "
   ]
  },
  {
   "cell_type": "code",
   "execution_count": null,
   "metadata": {},
   "outputs": [],
   "source": []
  },
  {
   "cell_type": "markdown",
   "metadata": {},
   "source": [
    "Output out just the variable 'sst'. \n",
    "\n",
    "Hint: again refer back to our steps for looking at the dimensions of the dataset. "
   ]
  },
  {
   "cell_type": "code",
   "execution_count": null,
   "metadata": {},
   "outputs": [],
   "source": []
  },
  {
   "cell_type": "markdown",
   "metadata": {},
   "source": [
    "Look over the attributes to the this variable like its name, units, etc. Are there any that don't make sense? Note them down and we'll discuss it together. \n",
    "\n",
    "Get the size of the 'sst' variable. \n",
    "\n",
    "Hint: This is called the **shape** of the dataset because it is two-dimensional."
   ]
  },
  {
   "cell_type": "code",
   "execution_count": null,
   "metadata": {},
   "outputs": [],
   "source": []
  },
  {
   "cell_type": "markdown",
   "metadata": {},
   "source": [
    "Does it match it up to the grid size we figured out earlier? Test this out using code!"
   ]
  },
  {
   "cell_type": "code",
   "execution_count": null,
   "metadata": {
    "scrolled": true
   },
   "outputs": [],
   "source": []
  },
  {
   "cell_type": "markdown",
   "metadata": {},
   "source": [
    "Now working with a partner, draw out the structure of the dataset we looked at today. \n",
    "\n",
    "Can you imagine packing all of this information onto a list or an excel sheet? This is why .netcdf files are so useful!"
   ]
  },
  {
   "cell_type": "markdown",
   "metadata": {},
   "source": [
    "## Acessing data\n",
    "\n",
    "Notice so far we haven't seen the data itself. We can do so by typing in **dataset**.variables[**variable_name**][:]. The data is saved as a masked array. This hides certain elements in the data. We'll see why that is useful when we plot the data."
   ]
  },
  {
   "cell_type": "code",
   "execution_count": null,
   "metadata": {},
   "outputs": [],
   "source": [
    "data.variables['sst'][:]"
   ]
  },
  {
   "cell_type": "markdown",
   "metadata": {},
   "source": [
    "To get the unmasked data, type in **dataset**.variables['**variable_name**'].data\n",
    "\n",
    "Notice that the fill value = -32767 mentioned above fills in anything that was True in the masked dataset. "
   ]
  },
  {
   "cell_type": "code",
   "execution_count": null,
   "metadata": {},
   "outputs": [],
   "source": [
    "data.variables['sst'][:].data"
   ]
  },
  {
   "cell_type": "markdown",
   "metadata": {},
   "source": [
    "We want to make sure that all the elements in the dataset aren't masked. To do so, let's play around with the indexing of the array. Skip the next section if you feel comfortable with indexing."
   ]
  },
  {
   "cell_type": "markdown",
   "metadata": {},
   "source": [
    "### Refresher on indexing with lists:"
   ]
  },
  {
   "cell_type": "code",
   "execution_count": null,
   "metadata": {},
   "outputs": [],
   "source": [
    "A = [0,1,2,3,4,5,6,7,8,9]\n",
    "print('for entire list: ', A[:])\n",
    "print('fifth element: ', A[4])\n",
    "print('first 3 elements: ', A[:3])\n",
    "print('last element: ', A[9], 'or ', A[-1])"
   ]
  },
  {
   "cell_type": "code",
   "execution_count": null,
   "metadata": {},
   "outputs": [],
   "source": [
    "# Output the last three elements in A\n"
   ]
  },
  {
   "cell_type": "code",
   "execution_count": null,
   "metadata": {},
   "outputs": [],
   "source": [
    "print('even numbers: ', A[0:10:2]) \n",
    "# note: this does not take into account the end index i.e 10\n",
    "\n",
    "#If you did A[10], Python would give you an error since there is no 11th element\n",
    "A[10]"
   ]
  },
  {
   "cell_type": "markdown",
   "metadata": {},
   "source": [
    "### Challenge:\n",
    "\n",
    "Plot out the 2160th row of the 'sst' grid against longitude.  Use the masked data. What does this approximately show?\n",
    "\n",
    "Hint: find out what the 2160th element in ```data.variables['lat']``` is. "
   ]
  },
  {
   "cell_type": "code",
   "execution_count": null,
   "metadata": {},
   "outputs": [],
   "source": []
  },
  {
   "cell_type": "code",
   "execution_count": null,
   "metadata": {},
   "outputs": [],
   "source": []
  }
 ],
 "metadata": {
  "kernelspec": {
   "display_name": "Python 3",
   "language": "python",
   "name": "python3"
  },
  "language_info": {
   "codemirror_mode": {
    "name": "ipython",
    "version": 3
   },
   "file_extension": ".py",
   "mimetype": "text/x-python",
   "name": "python",
   "nbconvert_exporter": "python",
   "pygments_lexer": "ipython3",
   "version": "3.7.3"
  }
 },
 "nbformat": 4,
 "nbformat_minor": 2
}

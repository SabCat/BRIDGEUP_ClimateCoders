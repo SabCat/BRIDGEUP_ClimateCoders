{
 "cells": [
  {
   "cell_type": "markdown",
   "metadata": {},
   "source": [
    "## Sea Surface Temperature (SST) anomalies\n",
    "\n",
    "Sea surface temperature anomalies measure the difference in temperature with respect to average conditions of the ocean. So, a positive difference means the surface ocean is warmer than normal and a negative difference means it's cooler than normal.  \n",
    "\n",
    "In the graph below, redder colors indicate a positive difference and bluer colors indicate a negative difference. Does this make sense based on our discussion of how temperature is distributed around the Earth?\n",
    "\n",
    "![SST anomaly](https://www.ospo.noaa.gov/data/sst/anomaly/2019/anomnight.1.3.2019.gif)"
   ]
  },
  {
   "cell_type": "markdown",
   "metadata": {},
   "source": [
    "We are going to calculate sea surface temperature anomalies for the SODA dataset today.  SODA or Simple Ocean Data Assimilation combines experimental measurements of the ocean with modelled data to map out ocean conditions across the globe. The oceans are huge (almost 70% of the Earth's surface is covered by oceans) so it very difficult to get oceanographic measurements of every inch of it. Scientists instead use models based on their understanding of what influences the oceans to fill in the gaps in their measurements. They can also use models to go back in time to look at what oceans might have been like in the past.\n",
    "\n",
    "### Pseudocode\n",
    "Here are the steps we need to take:\n",
    "1. import file\n",
    "1. save the necessary variables\n",
    "1. find the mean temperature\n",
    "1. find SST anomaly"
   ]
  },
  {
   "cell_type": "markdown",
   "metadata": {},
   "source": [
    "#### Step 1: Import file\n",
    "\n",
    "```\n",
    "change directory\n",
    "\n",
    "import netcdf4 module\n",
    "\n",
    "read in and save dataset as a variable called 'data'\n",
    "\n",
    "look at the names of the variables\n",
    "```"
   ]
  },
  {
   "cell_type": "code",
   "execution_count": 1,
   "metadata": {},
   "outputs": [
    {
     "data": {
      "text/plain": [
       "odict_keys(['time', 'xt_ocean', 'yt_ocean', 'xu_ocean', 'yu_ocean', 'st_ocean', 'sw_ocean', 'temp', 'salt', 'wt', 'ssh', 'mlt', 'mlp', 'mls', 'net_heating', 'prho', 'u', 'v', 'taux', 'tauy'])"
      ]
     },
     "execution_count": 1,
     "metadata": {},
     "output_type": "execute_result"
    }
   ],
   "source": [
    "import os\n",
    "from netCDF4 import Dataset\n",
    "os.chdir('/Users/brownscholar/Dropbox/BridgeUP_ClimateCoders/Data')\n",
    "data = Dataset('soda3.12.2_mn_ocean_reg_2017.nc')\n",
    "data.variables.keys()"
   ]
  },
  {
   "cell_type": "code",
   "execution_count": 2,
   "metadata": {},
   "outputs": [],
   "source": [
    "import numpy as np"
   ]
  },
  {
   "cell_type": "markdown",
   "metadata": {},
   "source": [
    "This is a description of what each of these variables are"
   ]
  },
  {
   "cell_type": "code",
   "execution_count": 3,
   "metadata": {},
   "outputs": [
    {
     "name": "stdout",
     "output_type": "stream",
     "text": [
      "time :  time\n",
      "xt_ocean :  longitude\n",
      "yt_ocean :  latitude\n",
      "xu_ocean :  longitude\n",
      "yu_ocean :  latitude\n",
      "st_ocean :  tcell zstar depth\n",
      "sw_ocean :  ucell zstar depth\n",
      "temp :  Potential temperature\n",
      "salt :  Practical Salinity\n",
      "wt :  dia-surface velocity T-points\n",
      "ssh :  effective sea level (eta_t + patm/(rho0*g)) on T cells\n",
      "mlt :  mixed layer depth determined by temperature criteria\n",
      "mlp :  Depth of potential density mixed layer\n",
      "mls :  mixed layer depth determined by salinity criteria\n",
      "net_heating :  surface ocean heat flux coming through coupler and mass transfer\n",
      "prho :  potential density referenced to 0 dbar\n",
      "u :  i-current\n",
      "v :  j-current\n",
      "taux :  i-directed wind stress forcing u-velocity\n",
      "tauy :  j-directed wind stress forcing v-velocity\n"
     ]
    }
   ],
   "source": [
    "for variable in data.variables:\n",
    "    print(variable,': ',data.variables[variable].long_name)"
   ]
  },
  {
   "cell_type": "markdown",
   "metadata": {},
   "source": [
    "Use the code above to print out the shape of the variables. What do the dimensions of temp i.e temperature correspond to?"
   ]
  },
  {
   "cell_type": "code",
   "execution_count": 4,
   "metadata": {},
   "outputs": [
    {
     "name": "stdout",
     "output_type": "stream",
     "text": [
      "time :  (12,)\n",
      "xt_ocean :  (720,)\n",
      "yt_ocean :  (330,)\n",
      "xu_ocean :  (720,)\n",
      "yu_ocean :  (330,)\n",
      "st_ocean :  (50,)\n",
      "sw_ocean :  (50,)\n",
      "temp :  (12, 50, 330, 720)\n",
      "salt :  (12, 50, 330, 720)\n",
      "wt :  (12, 50, 330, 720)\n",
      "ssh :  (12, 330, 720)\n",
      "mlt :  (12, 330, 720)\n",
      "mlp :  (12, 330, 720)\n",
      "mls :  (12, 330, 720)\n",
      "net_heating :  (12, 330, 720)\n",
      "prho :  (12, 50, 330, 720)\n",
      "u :  (12, 50, 330, 720)\n",
      "v :  (12, 50, 330, 720)\n",
      "taux :  (12, 330, 720)\n",
      "tauy :  (12, 330, 720)\n"
     ]
    }
   ],
   "source": [
    "for variables in data.variables:\n",
    "    print(variables,': ',data.variables[variables].shape)"
   ]
  },
  {
   "cell_type": "code",
   "execution_count": 5,
   "metadata": {},
   "outputs": [
    {
     "data": {
      "text/plain": [
       "OrderedDict([('time', <class 'netCDF4._netCDF4.Variable'>\n",
       "              float64 time(time)\n",
       "                  standard_name: time\n",
       "                  long_name: time\n",
       "                  units: days since 1980-1-1 00:00:00\n",
       "                  calendar: standard\n",
       "                  axis: T\n",
       "              unlimited dimensions: time\n",
       "              current shape = (12,)\n",
       "              filling on, default _FillValue of 9.969209968386869e+36 used),\n",
       "             ('xt_ocean', <class 'netCDF4._netCDF4.Variable'>\n",
       "              float64 xt_ocean(xt_ocean)\n",
       "                  standard_name: longitude\n",
       "                  long_name: longitude\n",
       "                  units: degrees_east\n",
       "                  axis: X\n",
       "              unlimited dimensions: \n",
       "              current shape = (720,)\n",
       "              filling on, default _FillValue of 9.969209968386869e+36 used),\n",
       "             ('yt_ocean', <class 'netCDF4._netCDF4.Variable'>\n",
       "              float64 yt_ocean(yt_ocean)\n",
       "                  standard_name: latitude\n",
       "                  long_name: latitude\n",
       "                  units: degrees_north\n",
       "                  axis: Y\n",
       "              unlimited dimensions: \n",
       "              current shape = (330,)\n",
       "              filling on, default _FillValue of 9.969209968386869e+36 used),\n",
       "             ('xu_ocean', <class 'netCDF4._netCDF4.Variable'>\n",
       "              float64 xu_ocean(xu_ocean)\n",
       "                  standard_name: longitude\n",
       "                  long_name: longitude\n",
       "                  units: degrees_east\n",
       "                  axis: X\n",
       "              unlimited dimensions: \n",
       "              current shape = (720,)\n",
       "              filling on, default _FillValue of 9.969209968386869e+36 used),\n",
       "             ('yu_ocean', <class 'netCDF4._netCDF4.Variable'>\n",
       "              float64 yu_ocean(yu_ocean)\n",
       "                  standard_name: latitude\n",
       "                  long_name: latitude\n",
       "                  units: degrees_north\n",
       "                  axis: Y\n",
       "              unlimited dimensions: \n",
       "              current shape = (330,)\n",
       "              filling on, default _FillValue of 9.969209968386869e+36 used),\n",
       "             ('st_ocean', <class 'netCDF4._netCDF4.Variable'>\n",
       "              float64 st_ocean(st_ocean)\n",
       "                  long_name: tcell zstar depth\n",
       "                  units: meters\n",
       "                  positive: up\n",
       "                  axis: Z\n",
       "              unlimited dimensions: \n",
       "              current shape = (50,)\n",
       "              filling on, default _FillValue of 9.969209968386869e+36 used),\n",
       "             ('sw_ocean', <class 'netCDF4._netCDF4.Variable'>\n",
       "              float64 sw_ocean(sw_ocean)\n",
       "                  long_name: ucell zstar depth\n",
       "                  units: meters\n",
       "                  positive: up\n",
       "                  axis: Z\n",
       "              unlimited dimensions: \n",
       "              current shape = (50,)\n",
       "              filling on, default _FillValue of 9.969209968386869e+36 used),\n",
       "             ('temp', <class 'netCDF4._netCDF4.Variable'>\n",
       "              float32 temp(time, st_ocean, yt_ocean, xt_ocean)\n",
       "                  standard_name: sea_water_potential_temperature\n",
       "                  long_name: Potential temperature\n",
       "                  units: degrees C\n",
       "                  _FillValue: -1e+20\n",
       "                  missing_value: -1e+20\n",
       "                  cell_methods: time: mean time: mean\n",
       "                  time_avg_info: average_T1,average_T2,average_DT\n",
       "              unlimited dimensions: time\n",
       "              current shape = (12, 50, 330, 720)\n",
       "              filling on),\n",
       "             ('salt', <class 'netCDF4._netCDF4.Variable'>\n",
       "              float32 salt(time, st_ocean, yt_ocean, xt_ocean)\n",
       "                  standard_name: sea_water_salinity\n",
       "                  long_name: Practical Salinity\n",
       "                  units: psu\n",
       "                  _FillValue: -1e+20\n",
       "                  missing_value: -1e+20\n",
       "                  cell_methods: time: mean time: mean\n",
       "                  time_avg_info: average_T1,average_T2,average_DT\n",
       "              unlimited dimensions: time\n",
       "              current shape = (12, 50, 330, 720)\n",
       "              filling on),\n",
       "             ('wt', <class 'netCDF4._netCDF4.Variable'>\n",
       "              float32 wt(time, sw_ocean, yt_ocean, xt_ocean)\n",
       "                  long_name: dia-surface velocity T-points\n",
       "                  units: m/sec\n",
       "                  _FillValue: -1e+20\n",
       "                  missing_value: -1e+20\n",
       "                  cell_methods: time: mean time: mean\n",
       "                  time_avg_info: average_T1,average_T2,average_DT\n",
       "              unlimited dimensions: time\n",
       "              current shape = (12, 50, 330, 720)\n",
       "              filling on),\n",
       "             ('ssh', <class 'netCDF4._netCDF4.Variable'>\n",
       "              float32 ssh(time, yt_ocean, xt_ocean)\n",
       "                  standard_name: sea_surface_height_above_geoid\n",
       "                  long_name: effective sea level (eta_t + patm/(rho0*g)) on T cells\n",
       "                  units: meter\n",
       "                  _FillValue: -1e+20\n",
       "                  missing_value: -1e+20\n",
       "                  cell_methods: time: mean time: mean\n",
       "                  time_avg_info: average_T1,average_T2,average_DT\n",
       "              unlimited dimensions: time\n",
       "              current shape = (12, 330, 720)\n",
       "              filling on),\n",
       "             ('mlt', <class 'netCDF4._netCDF4.Variable'>\n",
       "              float32 mlt(time, yt_ocean, xt_ocean)\n",
       "                  long_name: mixed layer depth determined by temperature criteria\n",
       "                  units: m\n",
       "                  _FillValue: -1e+20\n",
       "                  missing_value: -1e+20\n",
       "                  cell_methods: time: mean time: mean\n",
       "                  time_avg_info: average_T1,average_T2,average_DT\n",
       "              unlimited dimensions: time\n",
       "              current shape = (12, 330, 720)\n",
       "              filling on),\n",
       "             ('mlp', <class 'netCDF4._netCDF4.Variable'>\n",
       "              float32 mlp(time, yt_ocean, xt_ocean)\n",
       "                  long_name: Depth of potential density mixed layer\n",
       "                  units: m\n",
       "                  _FillValue: -1e+20\n",
       "                  missing_value: -1e+20\n",
       "                  cell_methods: time: mean time: mean\n",
       "                  time_avg_info: average_T1,average_T2,average_DT\n",
       "              unlimited dimensions: time\n",
       "              current shape = (12, 330, 720)\n",
       "              filling on),\n",
       "             ('mls', <class 'netCDF4._netCDF4.Variable'>\n",
       "              float32 mls(time, yt_ocean, xt_ocean)\n",
       "                  long_name: mixed layer depth determined by salinity criteria\n",
       "                  units: m\n",
       "                  _FillValue: -1e+20\n",
       "                  missing_value: -1e+20\n",
       "                  cell_methods: time: mean time: mean\n",
       "                  time_avg_info: average_T1,average_T2,average_DT\n",
       "              unlimited dimensions: time\n",
       "              current shape = (12, 330, 720)\n",
       "              filling on),\n",
       "             ('net_heating', <class 'netCDF4._netCDF4.Variable'>\n",
       "              float32 net_heating(time, yt_ocean, xt_ocean)\n",
       "                  long_name: surface ocean heat flux coming through coupler and mass transfer\n",
       "                  units: Watts/m^2\n",
       "                  _FillValue: -1e+20\n",
       "                  missing_value: -1e+20\n",
       "                  cell_methods: time: mean time: mean\n",
       "                  time_avg_info: average_T1,average_T2,average_DT\n",
       "              unlimited dimensions: time\n",
       "              current shape = (12, 330, 720)\n",
       "              filling on),\n",
       "             ('prho', <class 'netCDF4._netCDF4.Variable'>\n",
       "              float32 prho(time, st_ocean, yt_ocean, xt_ocean)\n",
       "                  standard_name: sea_water_potential_density\n",
       "                  long_name: potential density referenced to 0 dbar\n",
       "                  units: kg/m^3\n",
       "                  _FillValue: -1e+20\n",
       "                  missing_value: -1e+20\n",
       "                  cell_methods: time: mean time: mean\n",
       "                  time_avg_info: average_T1,average_T2,average_DT\n",
       "              unlimited dimensions: time\n",
       "              current shape = (12, 50, 330, 720)\n",
       "              filling on),\n",
       "             ('u', <class 'netCDF4._netCDF4.Variable'>\n",
       "              float32 u(time, st_ocean, yu_ocean, xu_ocean)\n",
       "                  standard_name: sea_water_x_velocity\n",
       "                  long_name: i-current\n",
       "                  units: m/sec\n",
       "                  _FillValue: -1e+20\n",
       "                  missing_value: -1e+20\n",
       "                  cell_methods: time: mean time: mean\n",
       "                  time_avg_info: average_T1,average_T2,average_DT\n",
       "              unlimited dimensions: time\n",
       "              current shape = (12, 50, 330, 720)\n",
       "              filling on),\n",
       "             ('v', <class 'netCDF4._netCDF4.Variable'>\n",
       "              float32 v(time, st_ocean, yu_ocean, xu_ocean)\n",
       "                  standard_name: sea_water_y_velocity\n",
       "                  long_name: j-current\n",
       "                  units: m/sec\n",
       "                  _FillValue: -1e+20\n",
       "                  missing_value: -1e+20\n",
       "                  cell_methods: time: mean time: mean\n",
       "                  time_avg_info: average_T1,average_T2,average_DT\n",
       "              unlimited dimensions: time\n",
       "              current shape = (12, 50, 330, 720)\n",
       "              filling on),\n",
       "             ('taux', <class 'netCDF4._netCDF4.Variable'>\n",
       "              float32 taux(time, yu_ocean, xu_ocean)\n",
       "                  standard_name: surface_downward_x_stress\n",
       "                  long_name: i-directed wind stress forcing u-velocity\n",
       "                  units: N/m^2\n",
       "                  _FillValue: -1e+20\n",
       "                  missing_value: -1e+20\n",
       "                  cell_methods: time: mean time: mean\n",
       "                  time_avg_info: average_T1,average_T2,average_DT\n",
       "              unlimited dimensions: time\n",
       "              current shape = (12, 330, 720)\n",
       "              filling on),\n",
       "             ('tauy', <class 'netCDF4._netCDF4.Variable'>\n",
       "              float32 tauy(time, yu_ocean, xu_ocean)\n",
       "                  standard_name: surface_downward_y_stress\n",
       "                  long_name: j-directed wind stress forcing v-velocity\n",
       "                  units: N/m^2\n",
       "                  _FillValue: -1e+20\n",
       "                  missing_value: -1e+20\n",
       "                  cell_methods: time: mean time: mean\n",
       "                  time_avg_info: average_T1,average_T2,average_DT\n",
       "              unlimited dimensions: time\n",
       "              current shape = (12, 330, 720)\n",
       "              filling on)])"
      ]
     },
     "execution_count": 5,
     "metadata": {},
     "output_type": "execute_result"
    }
   ],
   "source": [
    "data.variables"
   ]
  },
  {
   "cell_type": "markdown",
   "metadata": {},
   "source": [
    "#### Step 2: Save the required variables\n",
    "\n",
    "```\n",
    "save the variables temperature depends on i.e time, st_ocean, yt_ocean, xt_ocean\n",
    "\n",
    "save temperature i.e temp\n",
    "```"
   ]
  },
  {
   "cell_type": "code",
   "execution_count": 10,
   "metadata": {},
   "outputs": [],
   "source": [
    "# Save latitude as variable\n",
    "lat = data.variables[\"yt_ocean\"][:]\n",
    "# Save longitude as variable\n",
    "lon = data.variables[\"xt_ocean\"][:]\n",
    "#Save time as variable\n",
    "time = data.variables[\"time\"][:]\n",
    "#Save depth as variable\n",
    "depth = data.variables[\"st_ocean\"][:]\n",
    "# Save temperature as variable\n",
    "temp = data.variables[\"temp\"][:]"
   ]
  },
  {
   "cell_type": "code",
   "execution_count": 11,
   "metadata": {},
   "outputs": [],
   "source": [
    "# Save temperature as variable"
   ]
  },
  {
   "cell_type": "markdown",
   "metadata": {},
   "source": [
    "Print out the minimum and maximum of each variable. Do these values make sense?"
   ]
  },
  {
   "cell_type": "code",
   "execution_count": 13,
   "metadata": {},
   "outputs": [
    {
     "name": "stdout",
     "output_type": "stream",
     "text": [
      "Example:  1 \n",
      "\n",
      "lat min:  -74.75\n",
      "lat max:  89.75\n"
     ]
    }
   ],
   "source": [
    "import numpy as np\n",
    "\n",
    "#You can use the min() and max() *method* to do this calculation.\n",
    "A = np.array([1,2,3,4,5])\n",
    "print('Example: ',A.min(),'\\n')\n",
    "\n",
    "print('lat min: ',lat.min())\n",
    "print('lat max: ',lat.max())"
   ]
  },
  {
   "cell_type": "markdown",
   "metadata": {},
   "source": [
    "Notice that time is measured in a different format as days from Jan 01, 1980. Sound familiar? We'll learn how to convert to a datetime format using the function in another session.\n",
    "\n",
    "Draw out what the temp variable might look like."
   ]
  },
  {
   "cell_type": "code",
   "execution_count": null,
   "metadata": {},
   "outputs": [],
   "source": []
  },
  {
   "cell_type": "markdown",
   "metadata": {},
   "source": [
    "#### Step 3: Find mean temperature \n",
    "\n",
    "*Hint*: Use https://docs.scipy.org/doc/numpy/reference/generated/numpy.ma.mean.html\n",
    "\n",
    "First, we need to decide what depth we would consider to be surface ocean? Call this variable z."
   ]
  },
  {
   "cell_type": "code",
   "execution_count": null,
   "metadata": {},
   "outputs": [],
   "source": []
  },
  {
   "cell_type": "markdown",
   "metadata": {},
   "source": [
    "Then, let's do this step by step. \n",
    "\n",
    "1. Only obtain data for the first month. You should get a grid with a shape of (50, 330, 720) "
   ]
  },
  {
   "cell_type": "code",
   "execution_count": null,
   "metadata": {},
   "outputs": [],
   "source": []
  },
  {
   "cell_type": "markdown",
   "metadata": {},
   "source": [
    "1. Identify the index for the first z m of the ocean\n",
    "1. Save temperature for the top z m"
   ]
  },
  {
   "cell_type": "code",
   "execution_count": null,
   "metadata": {},
   "outputs": [],
   "source": []
  },
  {
   "cell_type": "code",
   "execution_count": null,
   "metadata": {},
   "outputs": [],
   "source": []
  },
  {
   "cell_type": "markdown",
   "metadata": {},
   "source": [
    "Average over all z m. You should get a grid that is 330 by 720."
   ]
  },
  {
   "cell_type": "code",
   "execution_count": null,
   "metadata": {},
   "outputs": [],
   "source": []
  },
  {
   "cell_type": "markdown",
   "metadata": {},
   "source": [
    "Now, find the mean for the entire grid."
   ]
  },
  {
   "cell_type": "code",
   "execution_count": null,
   "metadata": {},
   "outputs": [],
   "source": []
  },
  {
   "cell_type": "markdown",
   "metadata": {},
   "source": [
    "#### But....\n",
    "\n",
    "You can do this step all at once by just applying the mean function to your array of the first month down to a depth of z m. I just wanted to make sure you got the steps its taking."
   ]
  },
  {
   "cell_type": "code",
   "execution_count": null,
   "metadata": {},
   "outputs": [],
   "source": []
  },
  {
   "cell_type": "markdown",
   "metadata": {},
   "source": [
    "Now find the mean for all 12 months to a depth of z m."
   ]
  },
  {
   "cell_type": "code",
   "execution_count": null,
   "metadata": {},
   "outputs": [],
   "source": []
  },
  {
   "cell_type": "markdown",
   "metadata": {},
   "source": [
    "#### Step 3: Find SST anomaly\n",
    "\n",
    "Remember:\n",
    "\n",
    "SST anomaly = SST - average SST"
   ]
  },
  {
   "cell_type": "markdown",
   "metadata": {},
   "source": [
    "## Challenge\n",
    "\n",
    "Repeat these steps for sea surface salinity data ('salt')"
   ]
  },
  {
   "cell_type": "code",
   "execution_count": null,
   "metadata": {},
   "outputs": [],
   "source": []
  }
 ],
 "metadata": {
  "kernelspec": {
   "display_name": "Python 3",
   "language": "python",
   "name": "python3"
  },
  "language_info": {
   "codemirror_mode": {
    "name": "ipython",
    "version": 3
   },
   "file_extension": ".py",
   "mimetype": "text/x-python",
   "name": "python",
   "nbconvert_exporter": "python",
   "pygments_lexer": "ipython3",
   "version": "3.7.3"
  }
 },
 "nbformat": 4,
 "nbformat_minor": 2
}

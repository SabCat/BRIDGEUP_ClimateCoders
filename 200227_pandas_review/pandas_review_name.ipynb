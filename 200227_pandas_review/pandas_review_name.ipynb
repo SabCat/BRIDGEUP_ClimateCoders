{
 "cells": [
  {
   "cell_type": "code",
   "execution_count": 114,
   "metadata": {},
   "outputs": [],
   "source": [
    "import pandas as pd\n",
    "import os\n",
    "import matplotlib.pyplot as plt"
   ]
  },
  {
   "cell_type": "markdown",
   "metadata": {},
   "source": [
    "#### Import the ENSO climate index"
   ]
  },
  {
   "cell_type": "code",
   "execution_count": 115,
   "metadata": {},
   "outputs": [],
   "source": [
    "#Changed directory -> entered a direct path to file 😚\n",
    "os.chdir('/Users/brownscholar/Downloads')\n",
    "\n",
    "#Read the Excel file and set it to a variable 🧐\n",
    "data = pd.read_excel('NOAA_ENSOIndex.xlsx')\n",
    "\n",
    "#Printed the Excel file 😎\n",
    "#print(data)"
   ]
  },
  {
   "cell_type": "markdown",
   "metadata": {},
   "source": [
    "#### How many years of data do we have?"
   ]
  },
  {
   "cell_type": "code",
   "execution_count": 116,
   "metadata": {},
   "outputs": [
    {
     "data": {
      "text/html": [
       "<div>\n",
       "<style scoped>\n",
       "    .dataframe tbody tr th:only-of-type {\n",
       "        vertical-align: middle;\n",
       "    }\n",
       "\n",
       "    .dataframe tbody tr th {\n",
       "        vertical-align: top;\n",
       "    }\n",
       "\n",
       "    .dataframe thead th {\n",
       "        text-align: right;\n",
       "    }\n",
       "</style>\n",
       "<table border=\"1\" class=\"dataframe\">\n",
       "  <thead>\n",
       "    <tr style=\"text-align: right;\">\n",
       "      <th></th>\n",
       "      <th>Year</th>\n",
       "      <th>1</th>\n",
       "      <th>2</th>\n",
       "      <th>3</th>\n",
       "      <th>4</th>\n",
       "      <th>5</th>\n",
       "      <th>6</th>\n",
       "      <th>7</th>\n",
       "      <th>8</th>\n",
       "      <th>9</th>\n",
       "      <th>10</th>\n",
       "      <th>11</th>\n",
       "      <th>12</th>\n",
       "    </tr>\n",
       "  </thead>\n",
       "  <tbody>\n",
       "    <tr>\n",
       "      <th>0</th>\n",
       "      <td>1871</td>\n",
       "      <td>-0.25</td>\n",
       "      <td>-0.58</td>\n",
       "      <td>-0.43</td>\n",
       "      <td>-0.50</td>\n",
       "      <td>-0.70</td>\n",
       "      <td>-0.53</td>\n",
       "      <td>-0.60</td>\n",
       "      <td>-0.33</td>\n",
       "      <td>-0.24</td>\n",
       "      <td>-0.33</td>\n",
       "      <td>-0.31</td>\n",
       "      <td>-0.58</td>\n",
       "    </tr>\n",
       "    <tr>\n",
       "      <th>1</th>\n",
       "      <td>1872</td>\n",
       "      <td>-0.72</td>\n",
       "      <td>-0.62</td>\n",
       "      <td>-0.50</td>\n",
       "      <td>-0.77</td>\n",
       "      <td>-0.62</td>\n",
       "      <td>-0.52</td>\n",
       "      <td>-0.32</td>\n",
       "      <td>-0.85</td>\n",
       "      <td>-1.02</td>\n",
       "      <td>-0.94</td>\n",
       "      <td>-0.79</td>\n",
       "      <td>-0.88</td>\n",
       "    </tr>\n",
       "    <tr>\n",
       "      <th>2</th>\n",
       "      <td>1873</td>\n",
       "      <td>-0.78</td>\n",
       "      <td>-1.01</td>\n",
       "      <td>-1.31</td>\n",
       "      <td>-0.67</td>\n",
       "      <td>-0.53</td>\n",
       "      <td>-0.48</td>\n",
       "      <td>-0.58</td>\n",
       "      <td>-0.39</td>\n",
       "      <td>-0.34</td>\n",
       "      <td>-0.78</td>\n",
       "      <td>-0.77</td>\n",
       "      <td>-0.70</td>\n",
       "    </tr>\n",
       "    <tr>\n",
       "      <th>3</th>\n",
       "      <td>1874</td>\n",
       "      <td>-0.93</td>\n",
       "      <td>-1.06</td>\n",
       "      <td>-1.40</td>\n",
       "      <td>-0.94</td>\n",
       "      <td>-0.86</td>\n",
       "      <td>-0.72</td>\n",
       "      <td>-1.00</td>\n",
       "      <td>-1.05</td>\n",
       "      <td>-1.13</td>\n",
       "      <td>-1.25</td>\n",
       "      <td>-1.33</td>\n",
       "      <td>-1.14</td>\n",
       "    </tr>\n",
       "    <tr>\n",
       "      <th>4</th>\n",
       "      <td>1875</td>\n",
       "      <td>-0.71</td>\n",
       "      <td>-0.37</td>\n",
       "      <td>-0.59</td>\n",
       "      <td>-0.87</td>\n",
       "      <td>-1.09</td>\n",
       "      <td>-0.76</td>\n",
       "      <td>-0.85</td>\n",
       "      <td>-0.81</td>\n",
       "      <td>-0.91</td>\n",
       "      <td>-0.83</td>\n",
       "      <td>-0.64</td>\n",
       "      <td>-0.75</td>\n",
       "    </tr>\n",
       "  </tbody>\n",
       "</table>\n",
       "</div>"
      ],
      "text/plain": [
       "   Year     1     2     3     4     5     6     7     8     9    10    11  \\\n",
       "0  1871 -0.25 -0.58 -0.43 -0.50 -0.70 -0.53 -0.60 -0.33 -0.24 -0.33 -0.31   \n",
       "1  1872 -0.72 -0.62 -0.50 -0.77 -0.62 -0.52 -0.32 -0.85 -1.02 -0.94 -0.79   \n",
       "2  1873 -0.78 -1.01 -1.31 -0.67 -0.53 -0.48 -0.58 -0.39 -0.34 -0.78 -0.77   \n",
       "3  1874 -0.93 -1.06 -1.40 -0.94 -0.86 -0.72 -1.00 -1.05 -1.13 -1.25 -1.33   \n",
       "4  1875 -0.71 -0.37 -0.59 -0.87 -1.09 -0.76 -0.85 -0.81 -0.91 -0.83 -0.64   \n",
       "\n",
       "     12  \n",
       "0 -0.58  \n",
       "1 -0.88  \n",
       "2 -0.70  \n",
       "3 -1.14  \n",
       "4 -0.75  "
      ]
     },
     "execution_count": 116,
     "metadata": {},
     "output_type": "execute_result"
    }
   ],
   "source": [
    "data.head()"
   ]
  },
  {
   "cell_type": "code",
   "execution_count": 117,
   "metadata": {},
   "outputs": [
    {
     "name": "stdout",
     "output_type": "stream",
     "text": [
      "Year    142.00\n",
      "1         5.92\n",
      "2         5.54\n",
      "3         4.13\n",
      "4         3.71\n",
      "5         3.73\n",
      "6         3.70\n",
      "7         4.14\n",
      "8         4.42\n",
      "9         4.66\n",
      "10        5.38\n",
      "11        5.60\n",
      "12        5.67\n",
      "dtype: float64\n"
     ]
    }
   ],
   "source": [
    "print(data.max() - data.min() +1)"
   ]
  },
  {
   "cell_type": "markdown",
   "metadata": {},
   "source": [
    "#### Find the monthly mean\n",
    "\n",
    "Remember!\n",
    "1. \"your data\".mean(axis = **0**) - mean along the columns\n",
    "1. \"your data\".mean(axis = **1**) - mean along the rows"
   ]
  },
  {
   "cell_type": "code",
   "execution_count": 118,
   "metadata": {},
   "outputs": [],
   "source": [
    "#Names the columns and gets rid of the years row.\n",
    "data = data.set_index(\"Year\")\n",
    "#Sets the new function to a variable (could be the same name) and use it below."
   ]
  },
  {
   "cell_type": "code",
   "execution_count": 119,
   "metadata": {},
   "outputs": [
    {
     "name": "stdout",
     "output_type": "stream",
     "text": [
      "1    -0.062817\n",
      "2    -0.054789\n",
      "3    -0.129507\n",
      "4    -0.126690\n",
      "5    -0.175423\n",
      "6    -0.123944\n",
      "7    -0.150352\n",
      "8    -0.115423\n",
      "9    -0.135845\n",
      "10   -0.113521\n",
      "11   -0.125423\n",
      "12   -0.052535\n",
      "dtype: float64\n"
     ]
    }
   ],
   "source": [
    "monthly = data.mean(axis=0)\n",
    "print(monthly)"
   ]
  },
  {
   "cell_type": "code",
   "execution_count": 120,
   "metadata": {},
   "outputs": [
    {
     "name": "stdout",
     "output_type": "stream",
     "text": [
      "Year\n",
      "1871   -0.448333\n",
      "1872   -0.712500\n",
      "1873   -0.695000\n",
      "1874   -1.067500\n",
      "1875   -0.765000\n",
      "1876   -0.500000\n",
      "1877    1.233333\n",
      "1878    0.554167\n",
      "1879   -0.685000\n",
      "1880   -0.370833\n",
      "1881   -0.042500\n",
      "1882   -0.462500\n",
      "1883   -0.263333\n",
      "1884    0.167500\n",
      "1885    0.382500\n",
      "1886   -0.774167\n",
      "1887   -0.599167\n",
      "1888    0.812500\n",
      "1889   -0.096667\n",
      "1890   -1.279167\n",
      "1891   -0.006667\n",
      "1892   -0.835000\n",
      "1893   -1.249167\n",
      "1894   -0.920000\n",
      "1895   -0.022500\n",
      "1896    0.568333\n",
      "1897    0.071667\n",
      "1898   -0.558333\n",
      "1899    0.210833\n",
      "1900    0.741667\n",
      "          ...   \n",
      "1983    0.445833\n",
      "1984   -0.720000\n",
      "1985   -0.711667\n",
      "1986    0.084167\n",
      "1987    1.224167\n",
      "1988   -1.019167\n",
      "1989   -0.788333\n",
      "1990    0.177500\n",
      "1991    0.597500\n",
      "1992    0.622500\n",
      "1993    0.436667\n",
      "1994    0.381667\n",
      "1995   -0.025000\n",
      "1996   -0.370000\n",
      "1997    1.190000\n",
      "1998    0.072500\n",
      "1999   -1.094167\n",
      "2000   -0.872500\n",
      "2001   -0.336667\n",
      "2002    0.589167\n",
      "2003    0.239167\n",
      "2004    0.369167\n",
      "2005    0.035833\n",
      "2006    0.094167\n",
      "2007   -0.560000\n",
      "2008   -0.713333\n",
      "2009    0.352500\n",
      "2010   -0.430000\n",
      "2011   -0.848333\n",
      "2012   -0.031667\n",
      "Length: 142, dtype: float64\n"
     ]
    }
   ],
   "source": [
    "yearly = data.mean(axis=1)\n",
    "print(yearly)"
   ]
  },
  {
   "cell_type": "markdown",
   "metadata": {},
   "source": [
    "#### Plot your result"
   ]
  },
  {
   "cell_type": "code",
   "execution_count": 121,
   "metadata": {},
   "outputs": [],
   "source": [
    "#Gives you months:\n",
    "#print(data.columns)\n",
    "#Gives you years:\n",
    "#print(data.index)"
   ]
  },
  {
   "cell_type": "code",
   "execution_count": 122,
   "metadata": {},
   "outputs": [
    {
     "name": "stdout",
     "output_type": "stream",
     "text": [
      "Index([1, 2, 3, 4, 5, 6, 7, 8, 9, 10, 11, 12], dtype='object')\n",
      "Int64Index([1871, 1872, 1873, 1874, 1875, 1876, 1877, 1878, 1879, 1880,\n",
      "            ...\n",
      "            2003, 2004, 2005, 2006, 2007, 2008, 2009, 2010, 2011, 2012],\n",
      "           dtype='int64', name='Year', length=142)\n"
     ]
    }
   ],
   "source": [
    "months = data.columns\n",
    "years = data.index\n",
    "print(months)\n",
    "print(years)"
   ]
  },
  {
   "cell_type": "code",
   "execution_count": 123,
   "metadata": {},
   "outputs": [
    {
     "data": {
      "image/png": "[encoded data removed]",
      "text/plain": [
       "<Figure size 432x288 with 1 Axes>"
      ]
     },
     "metadata": {
      "needs_background": "light"
     },
     "output_type": "display_data"
    }
   ],
   "source": [
    "plt.plot(months, monthly)\n",
    "plt.xlabel(\"Months\")\n",
    "plt.ylabel(\"Index\")\n",
    "plt.title(\"Monthly ENSO\")\n",
    "plt.show()"
   ]
  },
  {
   "cell_type": "code",
   "execution_count": 124,
   "metadata": {},
   "outputs": [
    {
     "data": {
      "image/png": "[encoded data removed]",
      "text/plain": [
       "<Figure size 432x288 with 1 Axes>"
      ]
     },
     "metadata": {
      "needs_background": "light"
     },
     "output_type": "display_data"
    }
   ],
   "source": [
    "plt.plot(years, yearly)\n",
    "plt.xlabel(\"Years\")\n",
    "plt.ylabel(\"Index\")\n",
    "plt.title(\"Yearly ENSO\")\n",
    "plt.show()"
   ]
  },
  {
   "cell_type": "markdown",
   "metadata": {},
   "source": [
    "#### When is ENSO the strongest? Sort your values to check! "
   ]
  },
  {
   "cell_type": "code",
   "execution_count": 125,
   "metadata": {},
   "outputs": [
    {
     "data": {
      "text/plain": [
       "Int64Index([1871, 1872, 1873, 1874, 1875, 1876, 1877, 1878, 1879, 1880,\n",
       "            ...\n",
       "            2003, 2004, 2005, 2006, 2007, 2008, 2009, 2010, 2011, 2012],\n",
       "           dtype='int64', name='Year', length=142)"
      ]
     },
     "execution_count": 125,
     "metadata": {},
     "output_type": "execute_result"
    }
   ],
   "source": [
    "yearly.index"
   ]
  },
  {
   "cell_type": "code",
   "execution_count": 127,
   "metadata": {},
   "outputs": [
    {
     "ename": "NameError",
     "evalue": "name 'DataFrame' is not defined",
     "output_type": "error",
     "traceback": [
      "\u001b[0;31m---------------------------------------------------------------------------\u001b[0m",
      "\u001b[0;31mNameError\u001b[0m                                 Traceback (most recent call last)",
      "\u001b[0;32m<ipython-input-127-1f112794c928>\u001b[0m in \u001b[0;36m<module>\u001b[0;34m\u001b[0m\n\u001b[0;32m----> 1\u001b[0;31m \u001b[0mdf\u001b[0m \u001b[0;34m=\u001b[0m \u001b[0mDataFrame\u001b[0m\u001b[0;34m(\u001b[0m\u001b[0;34m{\u001b[0m\u001b[0;34m\"years\"\u001b[0m\u001b[0;34m:\u001b[0m \u001b[0myearly\u001b[0m\u001b[0;34m.\u001b[0m\u001b[0mindex\u001b[0m\u001b[0;34m,\u001b[0m \u001b[0;34m\"set\"\u001b[0m\u001b[0;34m:\u001b[0m \u001b[0myearly\u001b[0m\u001b[0;34m}\u001b[0m\u001b[0;34m)\u001b[0m\u001b[0;34m\u001b[0m\u001b[0;34m\u001b[0m\u001b[0m\n\u001b[0m",
      "\u001b[0;31mNameError\u001b[0m: name 'DataFrame' is not defined"
     ]
    }
   ],
   "source": [
    "df = DataFrame({\"years\": yearly.index, \"set\": yearly})"
   ]
  },
  {
   "cell_type": "code",
   "execution_count": null,
   "metadata": {},
   "outputs": [],
   "source": [
    "for i in yearly:\n",
    "    if i > 1.0:\n",
    "        \n",
    "        print(yearly.index[])"
   ]
  },
  {
   "cell_type": "markdown",
   "metadata": {},
   "source": [
    "#### Create a new column for the annual mean"
   ]
  },
  {
   "cell_type": "code",
   "execution_count": null,
   "metadata": {},
   "outputs": [],
   "source": []
  },
  {
   "cell_type": "markdown",
   "metadata": {},
   "source": [
    "#### Plot out your result"
   ]
  },
  {
   "cell_type": "code",
   "execution_count": null,
   "metadata": {},
   "outputs": [],
   "source": []
  }
 ],
 "metadata": {
  "kernelspec": {
   "display_name": "Python 3",
   "language": "python",
   "name": "python3"
  },
  "language_info": {
   "codemirror_mode": {
    "name": "ipython",
    "version": 3
   },
   "file_extension": ".py",
   "mimetype": "text/x-python",
   "name": "python",
   "nbconvert_exporter": "python",
   "pygments_lexer": "ipython3",
   "version": "3.7.3"
  }
 },
 "nbformat": 4,
 "nbformat_minor": 2
}

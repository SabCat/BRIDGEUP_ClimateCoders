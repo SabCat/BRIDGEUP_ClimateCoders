{
 "cells": [
  {
   "attachments": {},
   "cell_type": "markdown",
   "metadata": {},
   "source": [
    "## Convert time format\n",
    "\n",
    "Our next step in processing our data is making our dates readable. \n",
    "\n",
    "For example:\n",
    "\n",
    "1880.5 = 1880 + ½ of a year = 1880 + 6 months = 06/1880 or June 1880\n",
    "\n",
    "**Our goal**: Convert the date column into separate columns for year and month"
   ]
  },
  {
   "cell_type": "markdown",
   "metadata": {},
   "source": [
    "### Step 1: Do it for one date \n",
    "\n",
    "**Some useful functions**\n",
    "\n",
    "numpy.ceil(**x**) : Returns the number x rounded to the closest and largest whole number\n",
    "* **x**: number or array\n",
    "\n",
    "numpy.floor(**x**) : Returns the number x rounded to the closest and smallest whole number\n",
    "* **x**: number or array\n",
    "\n",
    "numpy.round(**x**, **decimels**) : Returns the rounded number x or rounds all elements in array\n",
    "* **x**: number or array\n",
    "* **decimels**: number of decimels to round to\n",
    "\n",
    "numpy_array.astype(**data type**) : Converts elements in array to a different data type\n",
    "* **data type**: int, float, string etc"
   ]
  },
  {
   "cell_type": "code",
   "execution_count": null,
   "metadata": {},
   "outputs": [],
   "source": [
    "import numpy as np"
   ]
  },
  {
   "cell_type": "code",
   "execution_count": null,
   "metadata": {},
   "outputs": [],
   "source": [
    "#Useful functions\n",
    "\n",
    "test = 2.5\n",
    "print('number:',test)\n",
    "print('np.ceil(number):', np.ceil(2.5))\n",
    "print('np.floor(number):', np.floor(2.5))\n",
    "print('np.round(number):', np.round(2.5,0))\n",
    "\n",
    "test_array = np.arange(2.75,3.25,0.05)\n",
    "print('\\n array:',test_array)\n",
    "print('np.ceil(array):', np.ceil(test_array))\n",
    "print('np.floor(array):', np.floor(test_array))\n",
    "print('np.round(array):', np.round(test_array,0))\n",
    "\n",
    "print('\\n array with elements as int:',test_array.astype(int))"
   ]
  },
  {
   "cell_type": "markdown",
   "metadata": {},
   "source": [
    "Let's start small. Find the year and month associated with the given test date."
   ]
  },
  {
   "cell_type": "code",
   "execution_count": null,
   "metadata": {},
   "outputs": [],
   "source": [
    "date = 1880.5\n",
    "print(date)\n",
    "#What do these variables equal?\n",
    "#year =\n",
    "#month = "
   ]
  },
  {
   "cell_type": "markdown",
   "metadata": {},
   "source": [
    "### Step 2: Do it for an array of dates \n",
    "\n",
    "Remember: you can run operations on numpy arrays like they are numbers\n",
    "\n",
    "For example:\n",
    "\n",
    "```A = [1 , 2, 3]```\n",
    "\n",
    "```A * 2 = [2 , 4, 6]```"
   ]
  },
  {
   "cell_type": "code",
   "execution_count": null,
   "metadata": {},
   "outputs": [],
   "source": [
    "date_array = np.arange(1880, 1882.05, 1/12)\n",
    "print(date_array)\n",
    "#What do these arrays equal?\n",
    "#year_array = \n",
    "#month_array ="
   ]
  },
  {
   "cell_type": "markdown",
   "metadata": {},
   "source": [
    "### Step 3: Do this for a Pandas data column\n",
    "\n",
    "Remember: pandas columns work exactly like numpy arrays"
   ]
  },
  {
   "cell_type": "code",
   "execution_count": null,
   "metadata": {},
   "outputs": [],
   "source": [
    "import pandas as pd"
   ]
  },
  {
   "cell_type": "code",
   "execution_count": null,
   "metadata": {},
   "outputs": [],
   "source": [
    "date_df = pd.DataFrame({'Date':date_array,'Data':np.random.rand(len(date_array))})\n",
    "date_df.head()\n",
    "#What do these columns equal?\n",
    "#date_df['Year'] = \n",
    "#date_df['Month'] ="
   ]
  },
  {
   "cell_type": "markdown",
   "metadata": {},
   "source": [
    "### Step 4: Write a function\n",
    "\n",
    "Write a function that takes any Pandas column with dates in the this format and creates a new dataframe with columns for year and month instead.  \n",
    "\n",
    "Discuss in groups about what will go into this skeleton for a function and write your pseudo-code in your lab notes.\n",
    "\n",
    "```def (function_inputs):\n",
    "    do something\n",
    "    return function_outputs```\n",
    "        "
   ]
  },
  {
   "cell_type": "code",
   "execution_count": null,
   "metadata": {},
   "outputs": [],
   "source": [
    "#Function goes here"
   ]
  },
  {
   "cell_type": "code",
   "execution_count": null,
   "metadata": {},
   "outputs": [],
   "source": [
    "#Test on date_df"
   ]
  }
 ],
 "metadata": {
  "kernelspec": {
   "display_name": "Python 3",
   "language": "python",
   "name": "python3"
  },
  "language_info": {
   "codemirror_mode": {
    "name": "ipython",
    "version": 3
   },
   "file_extension": ".py",
   "mimetype": "text/x-python",
   "name": "python",
   "nbconvert_exporter": "python",
   "pygments_lexer": "ipython3",
   "version": "3.7.6"
  }
 },
 "nbformat": 4,
 "nbformat_minor": 4
}

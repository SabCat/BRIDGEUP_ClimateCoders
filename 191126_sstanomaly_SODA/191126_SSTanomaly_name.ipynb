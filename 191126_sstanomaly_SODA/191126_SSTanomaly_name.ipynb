{
 "cells": [
  {
   "cell_type": "markdown",
   "metadata": {},
   "source": [
    "## Sea Surface Temperature (SST) anomalies\n",
    "\n",
    "Sea surface temperature anomalies measure the difference in temperature with respect to average conditions of the ocean. So, a positive difference means the surface ocean is warmer than normal and a negative difference means it's cooler than normal.  \n",
    "\n",
    "In the graph below, redder colors indicate a positive difference and bluer colors indicate a negative difference. Does this make sense based on our discussion of how temperature is distributed around the Earth?\n",
    "\n",
    "![SST anomaly](https://www.ospo.noaa.gov/data/sst/anomaly/2019/anomnight.1.3.2019.gif)"
   ]
  },
  {
   "cell_type": "markdown",
   "metadata": {},
   "source": [
    "We are going to calculate sea surface temperature anomalies for the SODA dataset today.  SODA or Simple Ocean Data Assimilation combines experimental measurements of the ocean with modelled data to map out ocean conditions across the globe. The oceans are huge (almost 70% of the Earth's surface is covered by oceans) so it very difficult to get oceanographic measurements of every inch of it. Scientists instead use models based on their understanding of what influences the oceans to fill in the gaps in their measurements. They can also use models to go back in time to look at what oceans might have been like in the past.\n",
    "\n",
    "### Pseudocode\n",
    "Here are the steps we need to take:\n",
    "1. import file\n",
    "1. save the necessary variables\n",
    "1. find the mean temperature\n",
    "1. find SST anomaly"
   ]
  },
  {
   "cell_type": "markdown",
   "metadata": {},
   "source": [
    "#### Step 1: Import file\n",
    "\n",
    "```\n",
    "change directory\n",
    "\n",
    "import netcdf4 module\n",
    "\n",
    "read in and save dataset as a variable called 'data'\n",
    "\n",
    "look at the names of the variables\n",
    "```"
   ]
  },
  {
   "cell_type": "code",
   "execution_count": 1,
   "metadata": {},
   "outputs": [
    {
     "data": {
      "text/plain": [
       "odict_keys(['time', 'xt_ocean', 'yt_ocean', 'xu_ocean', 'yu_ocean', 'st_ocean', 'sw_ocean', 'temp', 'salt', 'wt', 'ssh', 'mlt', 'mlp', 'mls', 'net_heating', 'prho', 'u', 'v', 'taux', 'tauy'])"
      ]
     },
     "execution_count": 1,
     "metadata": {},
     "output_type": "execute_result"
    }
   ],
   "source": [
    "import os\n",
    "from netCDF4 import Dataset\n",
    "os.chdir('/Users/brownscholar/Dropbox/BridgeUP_ClimateCoders/Data')\n",
    "data = Dataset('soda3.12.2_mn_ocean_reg_2017.nc')\n",
    "data.variables.keys()"
   ]
  },
  {
   "cell_type": "code",
   "execution_count": 2,
   "metadata": {},
   "outputs": [],
   "source": [
    "import numpy as np"
   ]
  },
  {
   "cell_type": "markdown",
   "metadata": {},
   "source": [
    "This is a description of what each of these variables are"
   ]
  },
  {
   "cell_type": "code",
   "execution_count": 3,
   "metadata": {},
   "outputs": [
    {
     "name": "stdout",
     "output_type": "stream",
     "text": [
      "time :  time\n",
      "xt_ocean :  longitude\n",
      "yt_ocean :  latitude\n",
      "xu_ocean :  longitude\n",
      "yu_ocean :  latitude\n",
      "st_ocean :  tcell zstar depth\n",
      "sw_ocean :  ucell zstar depth\n",
      "temp :  Potential temperature\n",
      "salt :  Practical Salinity\n",
      "wt :  dia-surface velocity T-points\n",
      "ssh :  effective sea level (eta_t + patm/(rho0*g)) on T cells\n",
      "mlt :  mixed layer depth determined by temperature criteria\n",
      "mlp :  Depth of potential density mixed layer\n",
      "mls :  mixed layer depth determined by salinity criteria\n",
      "net_heating :  surface ocean heat flux coming through coupler and mass transfer\n",
      "prho :  potential density referenced to 0 dbar\n",
      "u :  i-current\n",
      "v :  j-current\n",
      "taux :  i-directed wind stress forcing u-velocity\n",
      "tauy :  j-directed wind stress forcing v-velocity\n"
     ]
    }
   ],
   "source": [
    "for variable in data.variables:\n",
    "    print(variable,': ',data.variables[variable].long_name)"
   ]
  },
  {
   "cell_type": "markdown",
   "metadata": {},
   "source": [
    "Use the code above to print out the shape of the variables. What do the dimensions of temp i.e temperature correspond to?"
   ]
  },
  {
   "cell_type": "code",
   "execution_count": 4,
   "metadata": {},
   "outputs": [
    {
     "name": "stdout",
     "output_type": "stream",
     "text": [
      "time :  (12,)\n",
      "xt_ocean :  (720,)\n",
      "yt_ocean :  (330,)\n",
      "xu_ocean :  (720,)\n",
      "yu_ocean :  (330,)\n",
      "st_ocean :  (50,)\n",
      "sw_ocean :  (50,)\n",
      "temp :  (12, 50, 330, 720)\n",
      "salt :  (12, 50, 330, 720)\n",
      "wt :  (12, 50, 330, 720)\n",
      "ssh :  (12, 330, 720)\n",
      "mlt :  (12, 330, 720)\n",
      "mlp :  (12, 330, 720)\n",
      "mls :  (12, 330, 720)\n",
      "net_heating :  (12, 330, 720)\n",
      "prho :  (12, 50, 330, 720)\n",
      "u :  (12, 50, 330, 720)\n",
      "v :  (12, 50, 330, 720)\n",
      "taux :  (12, 330, 720)\n",
      "tauy :  (12, 330, 720)\n"
     ]
    }
   ],
   "source": [
    "for variables in data.variables:\n",
    "    print(variables,': ',data.variables[variables].shape)"
   ]
  },
  {
   "cell_type": "code",
   "execution_count": 9,
   "metadata": {},
   "outputs": [],
   "source": [
    "#data.variables"
   ]
  },
  {
   "cell_type": "markdown",
   "metadata": {},
   "source": [
    "#### Step 2: Save the required variables\n",
    "\n",
    "```\n",
    "save the variables temperature depends on i.e time, st_ocean, yt_ocean, xt_ocean\n",
    "\n",
    "save temperature i.e temp\n",
    "```"
   ]
  },
  {
   "cell_type": "code",
   "execution_count": 6,
   "metadata": {},
   "outputs": [],
   "source": [
    "# Save latitude as variable\n",
    "lat = data.variables[\"yt_ocean\"][:]\n",
    "# Save longitude as variable\n",
    "lon = data.variables[\"xt_ocean\"][:]\n",
    "#Save time as variable\n",
    "time = data.variables[\"time\"][:]\n",
    "#Save depth as variable\n",
    "depth = data.variables[\"st_ocean\"][:]\n",
    "# Save temperature as variable\n",
    "temp = data.variables[\"temp\"][:]"
   ]
  },
  {
   "cell_type": "markdown",
   "metadata": {},
   "source": [
    "Print out the minimum and maximum of each variable. Do these values make sense?"
   ]
  },
  {
   "cell_type": "code",
   "execution_count": 19,
   "metadata": {},
   "outputs": [
    {
     "name": "stdout",
     "output_type": "stream",
     "text": [
      "Example:  1 \n",
      "\n",
      "lat min: -74.75\n",
      "lat max: 89.75\n",
      "lon min: 0.25\n",
      "lon max: 359.75\n",
      "time min: 13530.041666666666\n",
      "time max: 13860.041666666666\n",
      "depth min: 5.033549785614014\n",
      "depth max: 5395.02294921875\n",
      "temp min: -1.9938582\n",
      "temp max: 38.07777\n"
     ]
    }
   ],
   "source": [
    "import numpy as np\n",
    "\n",
    "#You can use the min() and max() *method* to do this calculation.\n",
    "A = np.array([1,2,3,4,5])\n",
    "print('Example: ',A.min(),'\\n')\n",
    "\n",
    "print('lat min:',lat.min())\n",
    "print('lat max:',lat.max())\n",
    "print('lon min:',lon.min())\n",
    "print('lon max:',lon.max())\n",
    "print('time min:',time.min())\n",
    "print('time max:',time.max())\n",
    "print('depth min:',depth.min())\n",
    "print('depth max:',depth.max())\n",
    "print('temp min:',temp.min())\n",
    "print('temp max:',temp.max())"
   ]
  },
  {
   "cell_type": "markdown",
   "metadata": {},
   "source": [
    "Notice that time is measured in a different format as days from Jan 01, 1980. Sound familiar? We'll learn how to convert to a datetime format using the function in another session.\n",
    "\n",
    "Draw out what the temp variable might look like."
   ]
  },
  {
   "cell_type": "code",
   "execution_count": null,
   "metadata": {},
   "outputs": [],
   "source": []
  },
  {
   "cell_type": "markdown",
   "metadata": {},
   "source": [
    "#### Step 3: Find mean temperature \n",
    "\n",
    "*Hint*: Use https://docs.scipy.org/doc/numpy/reference/generated/numpy.ma.mean.html\n",
    "\n",
    "First, we need to decide what depth we would consider to be surface ocean? Call this variable z."
   ]
  },
  {
   "cell_type": "code",
   "execution_count": 20,
   "metadata": {},
   "outputs": [],
   "source": [
    "z = 20"
   ]
  },
  {
   "cell_type": "markdown",
   "metadata": {},
   "source": [
    "Then, let's do this step by step. \n",
    "\n",
    "1. Only obtain data for the first month. You should get a grid with a shape of (50, 330, 720) "
   ]
  },
  {
   "cell_type": "code",
   "execution_count": 26,
   "metadata": {},
   "outputs": [],
   "source": [
    "m = temp[0]"
   ]
  },
  {
   "cell_type": "markdown",
   "metadata": {},
   "source": [
    "2. Identify the index for the first z m of the ocean\n",
    "3. Save temperature for the top z m"
   ]
  },
  {
   "cell_type": "code",
   "execution_count": 24,
   "metadata": {},
   "outputs": [],
   "source": [
    "#depth<z"
   ]
  },
  {
   "cell_type": "code",
   "execution_count": 25,
   "metadata": {},
   "outputs": [],
   "source": [
    "temp_jan = temp[0,depth<20,:,:]"
   ]
  },
  {
   "cell_type": "markdown",
   "metadata": {},
   "source": [
    "Average over all z m. You should get a grid that is 330 by 720."
   ]
  },
  {
   "cell_type": "code",
   "execution_count": 37,
   "metadata": {},
   "outputs": [
    {
     "data": {
      "text/plain": [
       "14.015762457458468"
      ]
     },
     "execution_count": 37,
     "metadata": {},
     "output_type": "execute_result"
    }
   ],
   "source": [
    "temp_jan_mean = temp_jan.mean(axis = 0)\n",
    "#Or u can do this and get the same result:\n",
    "temp_jan.mean(axis = 0).mean()"
   ]
  },
  {
   "cell_type": "markdown",
   "metadata": {},
   "source": [
    "Now, find the mean for the entire grid."
   ]
  },
  {
   "cell_type": "code",
   "execution_count": 32,
   "metadata": {},
   "outputs": [
    {
     "data": {
      "text/plain": [
       "(330, 720)"
      ]
     },
     "execution_count": 32,
     "metadata": {},
     "output_type": "execute_result"
    }
   ],
   "source": [
    "temp_jan_mean.shape"
   ]
  },
  {
   "cell_type": "markdown",
   "metadata": {},
   "source": [
    "#### But....\n",
    "\n",
    "You can do this step all at once by just applying the mean function to your array of the first month down to a depth of z m. I just wanted to make sure you got the steps its taking."
   ]
  },
  {
   "cell_type": "code",
   "execution_count": 35,
   "metadata": {},
   "outputs": [
    {
     "name": "stdout",
     "output_type": "stream",
     "text": [
      "14.015762457458468\n"
     ]
    }
   ],
   "source": [
    "print(temp_jan_mean.mean())"
   ]
  },
  {
   "cell_type": "markdown",
   "metadata": {},
   "source": [
    "Now find the mean for all 12 months to a depth of z m."
   ]
  },
  {
   "cell_type": "code",
   "execution_count": 40,
   "metadata": {},
   "outputs": [
    {
     "name": "stdout",
     "output_type": "stream",
     "text": [
      "14.017760987122497\n"
     ]
    }
   ],
   "source": [
    "temp_all = temp[:,depth<20,:,:]\n",
    "print(temp_all.mean())"
   ]
  },
  {
   "cell_type": "markdown",
   "metadata": {},
   "source": [
    "#### Step 3: Find SST anomaly\n",
    "\n",
    "Remember:\n",
    "\n",
    "SST anomaly = SST - average SST"
   ]
  },
  {
   "cell_type": "code",
   "execution_count": 45,
   "metadata": {},
   "outputs": [
    {
     "data": {
      "text/plain": [
       "masked_array(\n",
       "  data=[[[[--, --, --, ..., --, --, --],\n",
       "          [--, --, --, ..., --, --, --],\n",
       "          [--, --, --, ..., --, --, --],\n",
       "          ...,\n",
       "          [-15.731119155883789, -15.731095314025879,\n",
       "           -15.731050491333008, ..., -15.731263160705566,\n",
       "           -15.731220245361328, -15.731162071228027],\n",
       "          [-15.732431411743164, -15.732502937316895,\n",
       "           -15.732555389404297, ..., -15.732232093811035,\n",
       "           -15.732311248779297, -15.73237419128418],\n",
       "          [-15.737030982971191, -15.737079620361328,\n",
       "           -15.737127304077148, ..., -15.736905097961426,\n",
       "           -15.736946105957031, -15.736985206604004]],\n",
       "\n",
       "         [[--, --, --, ..., --, --, --],\n",
       "          [--, --, --, ..., --, --, --],\n",
       "          [--, --, --, ..., --, --, --],\n",
       "          ...,\n",
       "          [-15.73108196258545, -15.73105239868164, -15.73108959197998,\n",
       "           ..., -15.731328010559082, -15.731200218200684,\n",
       "           -15.731139183044434],\n",
       "          [-15.731245994567871, -15.731307983398438,\n",
       "           -15.73134708404541, ..., -15.731400489807129,\n",
       "           -15.731325149536133, -15.731245040893555],\n",
       "          [-15.737870216369629, -15.737923622131348,\n",
       "           -15.737975120544434, ..., -15.737717628479004,\n",
       "           -15.73776912689209, -15.737817764282227]]],\n",
       "\n",
       "\n",
       "        [[[--, --, --, ..., --, --, --],\n",
       "          [--, --, --, ..., --, --, --],\n",
       "          [--, --, --, ..., --, --, --],\n",
       "          ...,\n",
       "          [-15.735525131225586, -15.735815048217773,\n",
       "           -15.736075401306152, ..., -15.734502792358398,\n",
       "           -15.734950065612793, -15.7352876663208],\n",
       "          [-15.733882904052734, -15.73394775390625,\n",
       "           -15.733986854553223, ..., -15.733553886413574,\n",
       "           -15.73356819152832, -15.733692169189453],\n",
       "          [-15.731466293334961, -15.73149585723877,\n",
       "           -15.731524467468262, ..., -15.731553077697754,\n",
       "           -15.73150634765625, -15.731463432312012]],\n",
       "\n",
       "         [[--, --, --, ..., --, --, --],\n",
       "          [--, --, --, ..., --, --, --],\n",
       "          [--, --, --, ..., --, --, --],\n",
       "          ...,\n",
       "          [-15.735271453857422, -15.735486030578613,\n",
       "           -15.735773086547852, ..., -15.73434829711914,\n",
       "           -15.73477554321289, -15.735095977783203],\n",
       "          [-15.733866691589355, -15.733942985534668,\n",
       "           -15.733990669250488, ..., -15.733525276184082,\n",
       "           -15.733535766601562, -15.733662605285645],\n",
       "          [-15.7313871383667, -15.731415748596191, -15.731443405151367,\n",
       "           ..., -15.731483459472656, -15.731432914733887,\n",
       "           -15.731386184692383]]],\n",
       "\n",
       "\n",
       "        [[[--, --, --, ..., --, --, --],\n",
       "          [--, --, --, ..., --, --, --],\n",
       "          [--, --, --, ..., --, --, --],\n",
       "          ...,\n",
       "          [-15.742195129394531, -15.742172241210938,\n",
       "           -15.741898536682129, ..., -15.742537498474121,\n",
       "           -15.742140769958496, -15.742164611816406],\n",
       "          [-15.742164611816406, -15.742411613464355,\n",
       "           -15.742653846740723, ..., -15.741278648376465,\n",
       "           -15.741617202758789, -15.74191665649414],\n",
       "          [-15.75360107421875, -15.753567695617676,\n",
       "           -15.753534317016602, ..., -15.753656387329102,\n",
       "           -15.753641128540039, -15.75362777709961]],\n",
       "\n",
       "         [[--, --, --, ..., --, --, --],\n",
       "          [--, --, --, ..., --, --, --],\n",
       "          [--, --, --, ..., --, --, --],\n",
       "          ...,\n",
       "          [-15.742183685302734, -15.742170333862305,\n",
       "           -15.741911888122559, ..., -15.742544174194336,\n",
       "           -15.742130279541016, -15.742146492004395],\n",
       "          [-15.742104530334473, -15.74234390258789,\n",
       "           -15.742579460144043, ..., -15.741215705871582,\n",
       "           -15.741561889648438, -15.741864204406738],\n",
       "          [-15.753576278686523, -15.753543853759766,\n",
       "           -15.75351333618164, ..., -15.753625869750977,\n",
       "           -15.753612518310547, -15.75360107421875]]],\n",
       "\n",
       "\n",
       "        ...,\n",
       "\n",
       "\n",
       "        [[[--, --, --, ..., --, --, --],\n",
       "          [--, --, --, ..., --, --, --],\n",
       "          [--, --, --, ..., --, --, --],\n",
       "          ...,\n",
       "          [-15.784765243530273, -15.784717559814453,\n",
       "           -15.784842491149902, ..., -15.784940719604492,\n",
       "           -15.784918785095215, -15.784855842590332],\n",
       "          [-15.78235912322998, -15.782267570495605,\n",
       "           -15.782176971435547, ..., -15.782572746276855,\n",
       "           -15.782490730285645, -15.782424926757812],\n",
       "          [-15.775184631347656, -15.775186538696289,\n",
       "           -15.775188446044922, ..., -15.775262832641602,\n",
       "           -15.775227546691895, -15.775195121765137]],\n",
       "\n",
       "         [[--, --, --, ..., --, --, --],\n",
       "          [--, --, --, ..., --, --, --],\n",
       "          [--, --, --, ..., --, --, --],\n",
       "          ...,\n",
       "          [-15.784820556640625, -15.784756660461426,\n",
       "           -15.78487777709961, ..., -15.78499698638916,\n",
       "           -15.784980773925781, -15.784920692443848],\n",
       "          [-15.782205581665039, -15.782055854797363,\n",
       "           -15.781908988952637, ..., -15.782465934753418,\n",
       "           -15.782379150390625, -15.782309532165527],\n",
       "          [-15.77511215209961, -15.775115013122559,\n",
       "           -15.775117874145508, ..., -15.775190353393555,\n",
       "           -15.775155067443848, -15.77512264251709]]],\n",
       "\n",
       "\n",
       "        [[[--, --, --, ..., --, --, --],\n",
       "          [--, --, --, ..., --, --, --],\n",
       "          [--, --, --, ..., --, --, --],\n",
       "          ...,\n",
       "          [-15.784976959228516, -15.785233497619629,\n",
       "           -15.785828590393066, ..., -15.784076690673828,\n",
       "           -15.784418106079102, -15.784741401672363],\n",
       "          [-15.788578033447266, -15.788507461547852,\n",
       "           -15.788442611694336, ..., -15.78852653503418,\n",
       "           -15.788575172424316, -15.788612365722656],\n",
       "          [-15.783913612365723, -15.783910751342773,\n",
       "           -15.783907890319824, ..., -15.783945083618164,\n",
       "           -15.783931732177734, -15.783920288085938]],\n",
       "\n",
       "         [[--, --, --, ..., --, --, --],\n",
       "          [--, --, --, ..., --, --, --],\n",
       "          [--, --, --, ..., --, --, --],\n",
       "          ...,\n",
       "          [-15.784987449645996, -15.785249710083008,\n",
       "           -15.78587818145752, ..., -15.784059524536133,\n",
       "           -15.78441047668457, -15.784745216369629],\n",
       "          [-15.788691520690918, -15.788619041442871,\n",
       "           -15.788549423217773, ..., -15.788639068603516,\n",
       "           -15.78869342803955, -15.788731575012207],\n",
       "          [-15.784055709838867, -15.78404426574707,\n",
       "           -15.784034729003906, ..., -15.784097671508789,\n",
       "           -15.784082412719727, -15.784067153930664]]],\n",
       "\n",
       "\n",
       "        [[[--, --, --, ..., --, --, --],\n",
       "          [--, --, --, ..., --, --, --],\n",
       "          [--, --, --, ..., --, --, --],\n",
       "          ...,\n",
       "          [-15.768242835998535, -15.769412994384766,\n",
       "           -15.771079063415527, ..., -15.764643669128418,\n",
       "           -15.765869140625, -15.76716423034668],\n",
       "          [-15.788846015930176, -15.788729667663574,\n",
       "           -15.788615226745605, ..., -15.789188385009766,\n",
       "           -15.789011001586914, -15.788904190063477],\n",
       "          [-15.791473388671875, -15.79133415222168, -15.79119873046875,\n",
       "           ..., -15.791630744934082, -15.791600227355957,\n",
       "           -15.791572570800781]],\n",
       "\n",
       "         [[--, --, --, ..., --, --, --],\n",
       "          [--, --, --, ..., --, --, --],\n",
       "          [--, --, --, ..., --, --, --],\n",
       "          ...,\n",
       "          [-15.768651962280273, -15.76982307434082,\n",
       "           -15.771500587463379, ..., -15.764978408813477,\n",
       "           -15.76624870300293, -15.76756477355957],\n",
       "          [-15.788893699645996, -15.788789749145508,\n",
       "           -15.78868579864502, ..., -15.7892484664917,\n",
       "           -15.789066314697266, -15.788951873779297],\n",
       "          [-15.791688919067383, -15.791544914245605,\n",
       "           -15.79140567779541, ..., -15.791823387145996,\n",
       "           -15.791805267333984, -15.791787147521973]]]],\n",
       "  mask=[[[[ True,  True,  True, ...,  True,  True,  True],\n",
       "          [ True,  True,  True, ...,  True,  True,  True],\n",
       "          [ True,  True,  True, ...,  True,  True,  True],\n",
       "          ...,\n",
       "          [False, False, False, ..., False, False, False],\n",
       "          [False, False, False, ..., False, False, False],\n",
       "          [False, False, False, ..., False, False, False]],\n",
       "\n",
       "         [[ True,  True,  True, ...,  True,  True,  True],\n",
       "          [ True,  True,  True, ...,  True,  True,  True],\n",
       "          [ True,  True,  True, ...,  True,  True,  True],\n",
       "          ...,\n",
       "          [False, False, False, ..., False, False, False],\n",
       "          [False, False, False, ..., False, False, False],\n",
       "          [False, False, False, ..., False, False, False]]],\n",
       "\n",
       "\n",
       "        [[[ True,  True,  True, ...,  True,  True,  True],\n",
       "          [ True,  True,  True, ...,  True,  True,  True],\n",
       "          [ True,  True,  True, ...,  True,  True,  True],\n",
       "          ...,\n",
       "          [False, False, False, ..., False, False, False],\n",
       "          [False, False, False, ..., False, False, False],\n",
       "          [False, False, False, ..., False, False, False]],\n",
       "\n",
       "         [[ True,  True,  True, ...,  True,  True,  True],\n",
       "          [ True,  True,  True, ...,  True,  True,  True],\n",
       "          [ True,  True,  True, ...,  True,  True,  True],\n",
       "          ...,\n",
       "          [False, False, False, ..., False, False, False],\n",
       "          [False, False, False, ..., False, False, False],\n",
       "          [False, False, False, ..., False, False, False]]],\n",
       "\n",
       "\n",
       "        [[[ True,  True,  True, ...,  True,  True,  True],\n",
       "          [ True,  True,  True, ...,  True,  True,  True],\n",
       "          [ True,  True,  True, ...,  True,  True,  True],\n",
       "          ...,\n",
       "          [False, False, False, ..., False, False, False],\n",
       "          [False, False, False, ..., False, False, False],\n",
       "          [False, False, False, ..., False, False, False]],\n",
       "\n",
       "         [[ True,  True,  True, ...,  True,  True,  True],\n",
       "          [ True,  True,  True, ...,  True,  True,  True],\n",
       "          [ True,  True,  True, ...,  True,  True,  True],\n",
       "          ...,\n",
       "          [False, False, False, ..., False, False, False],\n",
       "          [False, False, False, ..., False, False, False],\n",
       "          [False, False, False, ..., False, False, False]]],\n",
       "\n",
       "\n",
       "        ...,\n",
       "\n",
       "\n",
       "        [[[ True,  True,  True, ...,  True,  True,  True],\n",
       "          [ True,  True,  True, ...,  True,  True,  True],\n",
       "          [ True,  True,  True, ...,  True,  True,  True],\n",
       "          ...,\n",
       "          [False, False, False, ..., False, False, False],\n",
       "          [False, False, False, ..., False, False, False],\n",
       "          [False, False, False, ..., False, False, False]],\n",
       "\n",
       "         [[ True,  True,  True, ...,  True,  True,  True],\n",
       "          [ True,  True,  True, ...,  True,  True,  True],\n",
       "          [ True,  True,  True, ...,  True,  True,  True],\n",
       "          ...,\n",
       "          [False, False, False, ..., False, False, False],\n",
       "          [False, False, False, ..., False, False, False],\n",
       "          [False, False, False, ..., False, False, False]]],\n",
       "\n",
       "\n",
       "        [[[ True,  True,  True, ...,  True,  True,  True],\n",
       "          [ True,  True,  True, ...,  True,  True,  True],\n",
       "          [ True,  True,  True, ...,  True,  True,  True],\n",
       "          ...,\n",
       "          [False, False, False, ..., False, False, False],\n",
       "          [False, False, False, ..., False, False, False],\n",
       "          [False, False, False, ..., False, False, False]],\n",
       "\n",
       "         [[ True,  True,  True, ...,  True,  True,  True],\n",
       "          [ True,  True,  True, ...,  True,  True,  True],\n",
       "          [ True,  True,  True, ...,  True,  True,  True],\n",
       "          ...,\n",
       "          [False, False, False, ..., False, False, False],\n",
       "          [False, False, False, ..., False, False, False],\n",
       "          [False, False, False, ..., False, False, False]]],\n",
       "\n",
       "\n",
       "        [[[ True,  True,  True, ...,  True,  True,  True],\n",
       "          [ True,  True,  True, ...,  True,  True,  True],\n",
       "          [ True,  True,  True, ...,  True,  True,  True],\n",
       "          ...,\n",
       "          [False, False, False, ..., False, False, False],\n",
       "          [False, False, False, ..., False, False, False],\n",
       "          [False, False, False, ..., False, False, False]],\n",
       "\n",
       "         [[ True,  True,  True, ...,  True,  True,  True],\n",
       "          [ True,  True,  True, ...,  True,  True,  True],\n",
       "          [ True,  True,  True, ...,  True,  True,  True],\n",
       "          ...,\n",
       "          [False, False, False, ..., False, False, False],\n",
       "          [False, False, False, ..., False, False, False],\n",
       "          [False, False, False, ..., False, False, False]]]],\n",
       "  fill_value=-1e+20,\n",
       "  dtype=float32)"
      ]
     },
     "execution_count": 45,
     "metadata": {},
     "output_type": "execute_result"
    }
   ],
   "source": [
    "temp[:,depth<20,:,:] - temp_all.mean()"
   ]
  },
  {
   "cell_type": "markdown",
   "metadata": {},
   "source": [
    "## Challenge\n",
    "\n",
    "Repeat these steps for sea surface salinity data ('salt')"
   ]
  },
  {
   "cell_type": "code",
   "execution_count": null,
   "metadata": {},
   "outputs": [],
   "source": []
  }
 ],
 "metadata": {
  "kernelspec": {
   "display_name": "Python 3",
   "language": "python",
   "name": "python3"
  },
  "language_info": {
   "codemirror_mode": {
    "name": "ipython",
    "version": 3
   },
   "file_extension": ".py",
   "mimetype": "text/x-python",
   "name": "python",
   "nbconvert_exporter": "python",
   "pygments_lexer": "ipython3",
   "version": "3.7.3"
  }
 },
 "nbformat": 4,
 "nbformat_minor": 2
}
